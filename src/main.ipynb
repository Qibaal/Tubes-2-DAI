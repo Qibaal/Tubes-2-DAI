{
 "cells": [
  {
   "cell_type": "markdown",
   "metadata": {
    "id": "uR1JW69eLfG_"
   },
   "source": [
    "# IF3070 Foundations of Artificial Intelligence | Tugas Besar 2\n",
    "\n",
    "This notebook serves as a template for the assignment. Please create a copy of this notebook to complete your work. You can add more code blocks, markdown blocks, or new sections if needed.\n"
   ]
  },
  {
   "cell_type": "markdown",
   "metadata": {
    "id": "ucbaI5rBLtjJ"
   },
   "source": [
    "Group Number: xx\n",
    "\n",
    "Group Members:\n",
    "- Name (NIM)\n",
    "- Name (NIM)\n",
    "- ..."
   ]
  },
  {
   "cell_type": "markdown",
   "metadata": {
    "id": "GwzsfETHLfHA"
   },
   "source": [
    "## Import Libraries"
   ]
  },
  {
   "cell_type": "code",
   "execution_count": null,
   "metadata": {
    "id": "jZJU5W_4LfHB"
   },
   "outputs": [],
   "source": [
    "from sklearn.model_selection import train_test_split\n",
    "from sklearn.ensemble import IsolationForest\n",
    "import pandas as pd\n",
    "import numpy as np\n",
    "import re\n",
    "import string\n",
    "\n",
    "\n",
    "# Import other libraries if needed"
   ]
  },
  {
   "cell_type": "markdown",
   "metadata": {
    "id": "OKbjLIdYLfHC"
   },
   "source": [
    "## Import Dataset"
   ]
  },
  {
   "cell_type": "code",
   "execution_count": 55,
   "metadata": {
    "id": "-IWFJ-gdLfHD"
   },
   "outputs": [
    {
     "data": {
      "text/html": [
       "<div>\n",
       "<style scoped>\n",
       "    .dataframe tbody tr th:only-of-type {\n",
       "        vertical-align: middle;\n",
       "    }\n",
       "\n",
       "    .dataframe tbody tr th {\n",
       "        vertical-align: top;\n",
       "    }\n",
       "\n",
       "    .dataframe thead th {\n",
       "        text-align: right;\n",
       "    }\n",
       "</style>\n",
       "<table border=\"1\" class=\"dataframe\">\n",
       "  <thead>\n",
       "    <tr style=\"text-align: right;\">\n",
       "      <th></th>\n",
       "      <th>id</th>\n",
       "      <th>FILENAME</th>\n",
       "      <th>URL</th>\n",
       "      <th>URLLength</th>\n",
       "      <th>Domain</th>\n",
       "      <th>DomainLength</th>\n",
       "      <th>IsDomainIP</th>\n",
       "      <th>TLD</th>\n",
       "      <th>CharContinuationRate</th>\n",
       "      <th>TLDLegitimateProb</th>\n",
       "      <th>...</th>\n",
       "      <th>Pay</th>\n",
       "      <th>Crypto</th>\n",
       "      <th>HasCopyrightInfo</th>\n",
       "      <th>NoOfImage</th>\n",
       "      <th>NoOfCSS</th>\n",
       "      <th>NoOfJS</th>\n",
       "      <th>NoOfSelfRef</th>\n",
       "      <th>NoOfEmptyRef</th>\n",
       "      <th>NoOfExternalRef</th>\n",
       "      <th>label</th>\n",
       "    </tr>\n",
       "  </thead>\n",
       "  <tbody>\n",
       "    <tr>\n",
       "      <th>0</th>\n",
       "      <td>1</td>\n",
       "      <td>NaN</td>\n",
       "      <td>https://www.northcm.ac.th</td>\n",
       "      <td>24.0</td>\n",
       "      <td>www.northcm.ac.th</td>\n",
       "      <td>17.0</td>\n",
       "      <td>0.0</td>\n",
       "      <td>NaN</td>\n",
       "      <td>0.800000</td>\n",
       "      <td>NaN</td>\n",
       "      <td>...</td>\n",
       "      <td>0.0</td>\n",
       "      <td>0.0</td>\n",
       "      <td>1.0</td>\n",
       "      <td>NaN</td>\n",
       "      <td>3.0</td>\n",
       "      <td>NaN</td>\n",
       "      <td>69.0</td>\n",
       "      <td>NaN</td>\n",
       "      <td>NaN</td>\n",
       "      <td>1</td>\n",
       "    </tr>\n",
       "    <tr>\n",
       "      <th>1</th>\n",
       "      <td>4</td>\n",
       "      <td>8135291.txt</td>\n",
       "      <td>http://uqr.to/1il1z</td>\n",
       "      <td>NaN</td>\n",
       "      <td>NaN</td>\n",
       "      <td>NaN</td>\n",
       "      <td>NaN</td>\n",
       "      <td>to</td>\n",
       "      <td>1.000000</td>\n",
       "      <td>0.000896</td>\n",
       "      <td>...</td>\n",
       "      <td>NaN</td>\n",
       "      <td>0.0</td>\n",
       "      <td>0.0</td>\n",
       "      <td>NaN</td>\n",
       "      <td>NaN</td>\n",
       "      <td>NaN</td>\n",
       "      <td>NaN</td>\n",
       "      <td>NaN</td>\n",
       "      <td>1.0</td>\n",
       "      <td>0</td>\n",
       "    </tr>\n",
       "    <tr>\n",
       "      <th>2</th>\n",
       "      <td>5</td>\n",
       "      <td>586561.txt</td>\n",
       "      <td>https://www.woolworthsrewards.com.au</td>\n",
       "      <td>35.0</td>\n",
       "      <td>www.woolworthsrewards.com.au</td>\n",
       "      <td>28.0</td>\n",
       "      <td>0.0</td>\n",
       "      <td>au</td>\n",
       "      <td>0.857143</td>\n",
       "      <td>NaN</td>\n",
       "      <td>...</td>\n",
       "      <td>1.0</td>\n",
       "      <td>0.0</td>\n",
       "      <td>1.0</td>\n",
       "      <td>33.0</td>\n",
       "      <td>7.0</td>\n",
       "      <td>8.0</td>\n",
       "      <td>15.0</td>\n",
       "      <td>NaN</td>\n",
       "      <td>2.0</td>\n",
       "      <td>1</td>\n",
       "    </tr>\n",
       "    <tr>\n",
       "      <th>3</th>\n",
       "      <td>6</td>\n",
       "      <td>NaN</td>\n",
       "      <td>NaN</td>\n",
       "      <td>31.0</td>\n",
       "      <td>NaN</td>\n",
       "      <td>NaN</td>\n",
       "      <td>NaN</td>\n",
       "      <td>com</td>\n",
       "      <td>0.562500</td>\n",
       "      <td>0.522907</td>\n",
       "      <td>...</td>\n",
       "      <td>1.0</td>\n",
       "      <td>0.0</td>\n",
       "      <td>1.0</td>\n",
       "      <td>24.0</td>\n",
       "      <td>5.0</td>\n",
       "      <td>14.0</td>\n",
       "      <td>NaN</td>\n",
       "      <td>NaN</td>\n",
       "      <td>NaN</td>\n",
       "      <td>1</td>\n",
       "    </tr>\n",
       "    <tr>\n",
       "      <th>4</th>\n",
       "      <td>11</td>\n",
       "      <td>412632.txt</td>\n",
       "      <td>NaN</td>\n",
       "      <td>NaN</td>\n",
       "      <td>www.nyprowrestling.com</td>\n",
       "      <td>22.0</td>\n",
       "      <td>0.0</td>\n",
       "      <td>NaN</td>\n",
       "      <td>1.000000</td>\n",
       "      <td>NaN</td>\n",
       "      <td>...</td>\n",
       "      <td>0.0</td>\n",
       "      <td>0.0</td>\n",
       "      <td>1.0</td>\n",
       "      <td>NaN</td>\n",
       "      <td>NaN</td>\n",
       "      <td>14.0</td>\n",
       "      <td>NaN</td>\n",
       "      <td>0.0</td>\n",
       "      <td>NaN</td>\n",
       "      <td>1</td>\n",
       "    </tr>\n",
       "  </tbody>\n",
       "</table>\n",
       "<p>5 rows × 56 columns</p>\n",
       "</div>"
      ],
      "text/plain": [
       "   id     FILENAME                                   URL  URLLength  \\\n",
       "0   1          NaN             https://www.northcm.ac.th       24.0   \n",
       "1   4  8135291.txt                   http://uqr.to/1il1z        NaN   \n",
       "2   5   586561.txt  https://www.woolworthsrewards.com.au       35.0   \n",
       "3   6          NaN                                   NaN       31.0   \n",
       "4  11   412632.txt                                   NaN        NaN   \n",
       "\n",
       "                         Domain  DomainLength  IsDomainIP  TLD  \\\n",
       "0             www.northcm.ac.th          17.0         0.0  NaN   \n",
       "1                           NaN           NaN         NaN   to   \n",
       "2  www.woolworthsrewards.com.au          28.0         0.0   au   \n",
       "3                           NaN           NaN         NaN  com   \n",
       "4        www.nyprowrestling.com          22.0         0.0  NaN   \n",
       "\n",
       "   CharContinuationRate  TLDLegitimateProb  ...  Pay  Crypto  \\\n",
       "0              0.800000                NaN  ...  0.0     0.0   \n",
       "1              1.000000           0.000896  ...  NaN     0.0   \n",
       "2              0.857143                NaN  ...  1.0     0.0   \n",
       "3              0.562500           0.522907  ...  1.0     0.0   \n",
       "4              1.000000                NaN  ...  0.0     0.0   \n",
       "\n",
       "   HasCopyrightInfo  NoOfImage  NoOfCSS  NoOfJS  NoOfSelfRef  NoOfEmptyRef  \\\n",
       "0               1.0        NaN      3.0     NaN         69.0           NaN   \n",
       "1               0.0        NaN      NaN     NaN          NaN           NaN   \n",
       "2               1.0       33.0      7.0     8.0         15.0           NaN   \n",
       "3               1.0       24.0      5.0    14.0          NaN           NaN   \n",
       "4               1.0        NaN      NaN    14.0          NaN           0.0   \n",
       "\n",
       "   NoOfExternalRef  label  \n",
       "0              NaN      1  \n",
       "1              1.0      0  \n",
       "2              2.0      1  \n",
       "3              NaN      1  \n",
       "4              NaN      1  \n",
       "\n",
       "[5 rows x 56 columns]"
      ]
     },
     "execution_count": 55,
     "metadata": {},
     "output_type": "execute_result"
    }
   ],
   "source": [
    "# Example of reading a csv file from a gdrive link\n",
    "\n",
    "# Take the file id from the gdrive file url\n",
    "# https://drive.google.com/file/d/1ZUtiaty9RPXhpz5F2Sy3dFPHF4YIt5iU/view?usp=sharing => The file id is 1ZUtiaty9RPXhpz5F2Sy3dFPHF4YIt5iU\n",
    "# and then put it in this format:\n",
    "# https://drive.google.com/uc?id={file_id}\n",
    "# Don't forget to change the access to public\n",
    "\n",
    "df = pd.read_csv('train.csv')\n",
    "df.head()"
   ]
  },
  {
   "cell_type": "code",
   "execution_count": 56,
   "metadata": {},
   "outputs": [
    {
     "name": "stdout",
     "output_type": "stream",
     "text": [
      "                                         URL  TLDLength  NoOfSubDomain\n",
      "0                  https://www.northcm.ac.th        NaN            2.0\n",
      "1                        http://uqr.to/1il1z        2.0            0.0\n",
      "2       https://www.woolworthsrewards.com.au        NaN            2.0\n",
      "3                                        NaN        NaN            1.0\n",
      "4                                        NaN        NaN            1.0\n",
      "...                                      ...        ...            ...\n",
      "140399                                   NaN        3.0            1.0\n",
      "140400   https://www.greenmountainenergy.com        3.0            NaN\n",
      "140401       https://www.leadcastingcall.com        3.0            1.0\n",
      "140402                https://www.fedarb.com        NaN            NaN\n",
      "140403           https://www.risenenergy.com        3.0            1.0\n",
      "\n",
      "[140404 rows x 3 columns]\n",
      "Index(['id', 'FILENAME', 'URL', 'URLLength', 'Domain', 'DomainLength',\n",
      "       'IsDomainIP', 'TLD', 'CharContinuationRate', 'TLDLegitimateProb',\n",
      "       'URLCharProb', 'TLDLength', 'NoOfSubDomain', 'HasObfuscation',\n",
      "       'NoOfObfuscatedChar', 'ObfuscationRatio', 'NoOfLettersInURL',\n",
      "       'LetterRatioInURL', 'NoOfDegitsInURL', 'DegitRatioInURL',\n",
      "       'NoOfEqualsInURL', 'NoOfQMarkInURL', 'NoOfAmpersandInURL',\n",
      "       'NoOfOtherSpecialCharsInURL', 'SpacialCharRatioInURL', 'IsHTTPS',\n",
      "       'LineOfCode', 'LargestLineLength', 'HasTitle', 'Title',\n",
      "       'DomainTitleMatchScore', 'URLTitleMatchScore', 'HasFavicon', 'Robots',\n",
      "       'IsResponsive', 'NoOfURLRedirect', 'NoOfSelfRedirect', 'HasDescription',\n",
      "       'NoOfPopup', 'NoOfiFrame', 'HasExternalFormSubmit', 'HasSocialNet',\n",
      "       'HasSubmitButton', 'HasHiddenFields', 'HasPasswordField', 'Bank', 'Pay',\n",
      "       'Crypto', 'HasCopyrightInfo', 'NoOfImage', 'NoOfCSS', 'NoOfJS',\n",
      "       'NoOfSelfRef', 'NoOfEmptyRef', 'NoOfExternalRef', 'label'],\n",
      "      dtype='object')\n"
     ]
    }
   ],
   "source": [
    "print(df[['URL', 'TLDLength', 'NoOfSubDomain']])\n",
    "print(df.columns)"
   ]
  },
  {
   "cell_type": "markdown",
   "metadata": {
    "id": "gvx-gT3bLfHM"
   },
   "source": [
    "# 1. Split Training Set and Validation Set\n",
    "\n",
    "Splitting the training and validation set works as an early diagnostic towards the performance of the model we train. This is done before the preprocessing steps to **avoid data leakage inbetween the sets**. If you want to use k-fold cross-validation, split the data later and do the cleaning and preprocessing separately for each split.\n",
    "\n",
    "Note: For training, you should use the data contained in the `train` folder given by the TA. The `test` data is only used for kaggle submission."
   ]
  },
  {
   "cell_type": "code",
   "execution_count": 57,
   "metadata": {
    "id": "4yWCUFFBLfHM"
   },
   "outputs": [
    {
     "name": "stdout",
     "output_type": "stream",
     "text": [
      "Training set size: 112323\n",
      "Validation set size: 28081\n"
     ]
    }
   ],
   "source": [
    "# Split training set and validation set here, store into variables train_set and val_set.\n",
    "# Remember to also keep the original training set before splitting. This will come important later.\n",
    "# train_set, val_set = ...\n",
    "no_label = df.drop(columns=['label'])\n",
    "label_only = df['label']\n",
    "\n",
    "X_train, X_val, y_train, y_val = train_test_split(no_label, label_only, test_size=0.2, random_state=42, stratify=label_only)\n",
    "\n",
    "print(f\"Training set size: {X_train.shape[0]}\")\n",
    "print(f\"Validation set size: {X_val.shape[0]}\")"
   ]
  },
  {
   "cell_type": "markdown",
   "metadata": {
    "id": "IC14lmo_LfHN"
   },
   "source": [
    "# 2. Data Cleaning and Preprocessing\n",
    "\n",
    "This step is the first thing to be done once a Data Scientist have grasped a general knowledge of the data. Raw data is **seldom ready for training**, therefore steps need to be taken to clean and format the data for the Machine Learning model to interpret.\n",
    "\n",
    "By performing data cleaning and preprocessing, you ensure that your dataset is ready for model training, leading to more accurate and reliable machine learning results. These steps are essential for transforming raw data into a format that machine learning algorithms can effectively learn from and make predictions.\n",
    "\n",
    "We will give some common methods for you to try, but you only have to **at least implement one method for each process**. For each step that you will do, **please explain the reason why did you do that process. Write it in a markdown cell under the code cell you wrote.**"
   ]
  },
  {
   "cell_type": "markdown",
   "metadata": {
    "id": "p95_A8hSLfHY"
   },
   "source": [
    "## A. Data Cleaning\n",
    "\n",
    "**Data cleaning** is the crucial first step in preparing your dataset for machine learning. Raw data collected from various sources is often messy and may contain errors, missing values, and inconsistencies. Data cleaning involves the following steps:\n",
    "\n",
    "1. **Handling Missing Data:** Identify and address missing values in the dataset. This can include imputing missing values, removing rows or columns with excessive missing data, or using more advanced techniques like interpolation.\n",
    "\n",
    "2. **Dealing with Outliers:** Identify and handle outliers, which are data points significantly different from the rest of the dataset. Outliers can be removed or transformed to improve model performance.\n",
    "\n",
    "3. **Data Validation:** Check for data integrity and consistency. Ensure that data types are correct, categorical variables have consistent labels, and numerical values fall within expected ranges.\n",
    "\n",
    "4. **Removing Duplicates:** Identify and remove duplicate rows, as they can skew the model's training process and evaluation metrics.\n",
    "\n",
    "5. **Feature Engineering**: Create new features or modify existing ones to extract relevant information. This step can involve scaling, normalizing, or encoding features for better model interpretability."
   ]
  },
  {
   "cell_type": "markdown",
   "metadata": {
    "id": "_wruGao9LfHZ"
   },
   "source": [
    "### I. Handling Missing Data\n",
    "\n",
    "Missing data can adversely affect the performance and accuracy of machine learning models. There are several strategies to handle missing data in machine learning:\n",
    "\n",
    "1. **Data Imputation:**\n",
    "\n",
    "    a. **Mean, Median, or Mode Imputation:** For numerical features, you can replace missing values with the mean, median, or mode of the non-missing values in the same feature. This method is simple and often effective when data is missing at random.\n",
    "\n",
    "    b. **Constant Value Imputation:** You can replace missing values with a predefined constant value (e.g., 0) if it makes sense for your dataset and problem.\n",
    "\n",
    "    c. **Imputation Using Predictive Models:** More advanced techniques involve using predictive models to estimate missing values. For example, you can train a regression model to predict missing numerical values or a classification model to predict missing categorical values.\n",
    "\n",
    "2. **Deletion of Missing Data:**\n",
    "\n",
    "    a. **Listwise Deletion:** In cases where the amount of missing data is relatively small, you can simply remove rows with missing values from your dataset. However, this approach can lead to a loss of valuable information.\n",
    "\n",
    "    b. **Column (Feature) Deletion:** If a feature has a large number of missing values and is not critical for your analysis, you can consider removing that feature altogether.\n",
    "\n",
    "3. **Domain-Specific Strategies:**\n",
    "\n",
    "    a. **Domain Knowledge:** In some cases, domain knowledge can guide the imputation process. For example, if you know that missing values are related to a specific condition, you can impute them accordingly.\n",
    "\n",
    "4. **Imputation Libraries:**\n",
    "\n",
    "    a. **Scikit-Learn:** Scikit-Learn provides a `SimpleImputer` class that can handle basic imputation strategies like mean, median, and mode imputation.\n",
    "\n",
    "    b. **Fancyimpute:** Fancyimpute is a Python library that offers more advanced imputation techniques, including matrix factorization, k-nearest neighbors, and deep learning-based methods.\n",
    "\n",
    "The choice of imputation method should be guided by the nature of your data, the amount of missing data, the problem you are trying to solve, and the assumptions you are willing to make."
   ]
  },
  {
   "cell_type": "code",
   "execution_count": 58,
   "metadata": {
    "id": "ucZNfCkiLfHZ"
   },
   "outputs": [
    {
     "name": "stdout",
     "output_type": "stream",
     "text": [
      "21760\n",
      "            id    FILENAME  URL  URLLength Domain  DomainLength  IsDomainIP  \\\n",
      "3            6         NaN  NaN       31.0    NaN           NaN         NaN   \n",
      "33          71  616446.txt  NaN       35.0    NaN           NaN         0.0   \n",
      "36          75         NaN  NaN       27.0    NaN          20.0         0.0   \n",
      "47          94  547586.txt  NaN        NaN    NaN          12.0         NaN   \n",
      "65         121         NaN  NaN       23.0    NaN          17.0         0.0   \n",
      "...        ...         ...  ...        ...    ...           ...         ...   \n",
      "140364  235723  434252.txt  NaN       21.0    NaN          14.0         0.0   \n",
      "140376  235750         NaN  NaN        NaN    NaN          20.0         0.0   \n",
      "140377  235752         NaN  NaN        NaN    NaN          31.0         0.0   \n",
      "140380  235757         NaN  NaN        NaN    NaN          24.0         0.0   \n",
      "140398  235787  856116.txt  NaN       26.0    NaN          19.0         0.0   \n",
      "\n",
      "         TLD  CharContinuationRate  TLDLegitimateProb  ...  Pay  Crypto  \\\n",
      "3        com                0.5625           0.522907  ...  1.0     0.0   \n",
      "33       com                   NaN           0.522907  ...  0.0     NaN   \n",
      "36       NaN                1.0000           0.522907  ...  NaN     0.0   \n",
      "47       org                   NaN           0.079963  ...  1.0     NaN   \n",
      "65        gq                   NaN                NaN  ...  0.0     0.0   \n",
      "...      ...                   ...                ...  ...  ...     ...   \n",
      "140364   org                   NaN           0.079963  ...  NaN     0.0   \n",
      "140376   com                   NaN           0.522907  ...  0.0     0.0   \n",
      "140377  site                   NaN                NaN  ...  0.0     NaN   \n",
      "140380   com                1.0000           0.522907  ...  1.0     0.0   \n",
      "140398   net                1.0000           0.038420  ...  0.0     0.0   \n",
      "\n",
      "        HasCopyrightInfo  NoOfImage  NoOfCSS  NoOfJS  NoOfSelfRef  \\\n",
      "3                    1.0       24.0      5.0    14.0          NaN   \n",
      "33                   NaN       23.0      7.0     9.0         47.0   \n",
      "36                   1.0       89.0     25.0    24.0          NaN   \n",
      "47                   1.0        NaN     37.0     NaN         99.0   \n",
      "65                   NaN        NaN      NaN     0.0          0.0   \n",
      "...                  ...        ...      ...     ...          ...   \n",
      "140364               NaN       16.0     17.0    17.0          1.0   \n",
      "140376               1.0       44.0      1.0     6.0          NaN   \n",
      "140377               0.0        0.0      NaN     0.0          1.0   \n",
      "140380               NaN       37.0      NaN    14.0         16.0   \n",
      "140398               NaN       26.0      2.0     NaN          NaN   \n",
      "\n",
      "        NoOfEmptyRef  NoOfExternalRef  label  \n",
      "3                NaN              NaN      1  \n",
      "33               0.0              NaN      1  \n",
      "36               NaN              NaN      1  \n",
      "47               7.0             33.0      1  \n",
      "65               0.0              NaN      0  \n",
      "...              ...              ...    ...  \n",
      "140364           0.0              5.0      1  \n",
      "140376           NaN              NaN      1  \n",
      "140377           0.0              NaN      0  \n",
      "140380           NaN             27.0      1  \n",
      "140398          12.0            347.0      1  \n",
      "\n",
      "[21760 rows x 56 columns]\n"
     ]
    }
   ],
   "source": [
    "#Domain extract from URL\n",
    "def extract_domain_from_url(url):\n",
    "    if isinstance(url, str):\n",
    "        # Use regex to extract domain from the URL\n",
    "        match = re.search(r'https?://(?:www\\.)?([^/]+)', url)\n",
    "        if match:\n",
    "            return match.group(1)\n",
    "    return None\n",
    "\n",
    "df.loc[df['Domain'].isna() & df['URL'].notna(), 'Domain'] = df['URL'].apply(extract_domain_from_url)\n",
    "\n",
    "domain_null = df[df['Domain'].isna()]\n",
    "domain_null_count = df['Domain'].isna().sum()\n",
    "\n",
    "# Display the updated dataframe\n",
    "print(domain_null_count)\n",
    "print(domain_null)"
   ]
  },
  {
   "cell_type": "code",
   "execution_count": 59,
   "metadata": {},
   "outputs": [
    {
     "name": "stdout",
     "output_type": "stream",
     "text": [
      "   TLD  TLDLength\n",
      "0   th        2.0\n",
      "1   to        2.0\n",
      "2   au        2.0\n",
      "3  com        3.0\n",
      "4  com        3.0\n"
     ]
    }
   ],
   "source": [
    "#Extract TLD dari domain AND TLD length from TLD\n",
    "\n",
    "def extract_tld(domain):\n",
    "    if isinstance(domain, str):\n",
    "        return domain.split('.')[-1]  # Return the last part after splitting by '.'\n",
    "    return None\n",
    "\n",
    "df.loc[df['TLD'].isna() & df['Domain'].notna(), 'TLD'] = df['Domain'].apply(extract_tld)\n",
    "\n",
    "tld_null_count = df['TLD'].isna().sum()\n",
    "\n",
    "#TLDLength\n",
    "df['TLDLength'] = df.apply(lambda row: len(row['TLD']) if pd.notna(row['TLD']) and pd.isna(row['TLDLength']) else row['TLDLength'], axis=1)\n",
    "print(df[['TLD', 'TLDLength']].head())"
   ]
  },
  {
   "cell_type": "code",
   "execution_count": 60,
   "metadata": {},
   "outputs": [],
   "source": [
    "# Auto fill untuk feature Numeric yang menyangkut URL\n",
    "\n",
    "def analyze_url(row):\n",
    "    if pd.isna(row['URL']):  \n",
    "        return row  \n",
    "    \n",
    "    url = row['URL']\n",
    "    url_length = len(url)\n",
    "    letters = sum(1 for char in url if char.isalpha())\n",
    "    digits = sum(1 for char in url if char.isdigit())\n",
    "    equals = url.count('=')\n",
    "    q_marks = url.count('?')\n",
    "    ampersands = url.count('&')\n",
    "    special_chars = sum(1 for char in url if char in string.punctuation and char not in ['=', '?', '&'])\n",
    "    \n",
    "    row['NoOfLettersInURL'] = letters\n",
    "    row['LetterRatioInURL'] = letters / url_length if url_length > 0 else 0\n",
    "    row['NoOfDegitsInURL'] = digits\n",
    "    row['DegitRatioInURL'] = digits / url_length if url_length > 0 else 0\n",
    "    row['NoOfEqualsInURL'] = equals\n",
    "    row['NoOfQMarkInURL'] = q_marks\n",
    "    row['NoOfAmpersandInURL'] = ampersands\n",
    "    row['NoOfOtherSpecialCharsInURL'] = special_chars\n",
    "    row['SpacialCharRatioInURL'] = (letters + digits + special_chars) / url_length if url_length > 0 else 0\n",
    "    row['IsHTTPS'] = 1 if url.lower().startswith('https://') else 0\n",
    "    \n",
    "    return row\n",
    "\n",
    "df = df.apply(analyze_url, axis=1)"
   ]
  },
  {
   "cell_type": "code",
   "execution_count": 61,
   "metadata": {},
   "outputs": [
    {
     "data": {
      "text/html": [
       "<div>\n",
       "<style scoped>\n",
       "    .dataframe tbody tr th:only-of-type {\n",
       "        vertical-align: middle;\n",
       "    }\n",
       "\n",
       "    .dataframe tbody tr th {\n",
       "        vertical-align: top;\n",
       "    }\n",
       "\n",
       "    .dataframe thead th {\n",
       "        text-align: right;\n",
       "    }\n",
       "</style>\n",
       "<table border=\"1\" class=\"dataframe\">\n",
       "  <thead>\n",
       "    <tr style=\"text-align: right;\">\n",
       "      <th></th>\n",
       "      <th>Column</th>\n",
       "      <th>total missing</th>\n",
       "    </tr>\n",
       "  </thead>\n",
       "  <tbody>\n",
       "    <tr>\n",
       "      <th>0</th>\n",
       "      <td>id</td>\n",
       "      <td>0</td>\n",
       "    </tr>\n",
       "    <tr>\n",
       "      <th>1</th>\n",
       "      <td>FILENAME</td>\n",
       "      <td>57532</td>\n",
       "    </tr>\n",
       "    <tr>\n",
       "      <th>2</th>\n",
       "      <td>URL</td>\n",
       "      <td>43487</td>\n",
       "    </tr>\n",
       "    <tr>\n",
       "      <th>3</th>\n",
       "      <td>URLLength</td>\n",
       "      <td>60639</td>\n",
       "    </tr>\n",
       "    <tr>\n",
       "      <th>4</th>\n",
       "      <td>Domain</td>\n",
       "      <td>21760</td>\n",
       "    </tr>\n",
       "    <tr>\n",
       "      <th>5</th>\n",
       "      <td>DomainLength</td>\n",
       "      <td>46319</td>\n",
       "    </tr>\n",
       "    <tr>\n",
       "      <th>6</th>\n",
       "      <td>IsDomainIP</td>\n",
       "      <td>42130</td>\n",
       "    </tr>\n",
       "    <tr>\n",
       "      <th>7</th>\n",
       "      <td>TLD</td>\n",
       "      <td>7019</td>\n",
       "    </tr>\n",
       "    <tr>\n",
       "      <th>8</th>\n",
       "      <td>CharContinuationRate</td>\n",
       "      <td>48042</td>\n",
       "    </tr>\n",
       "    <tr>\n",
       "      <th>9</th>\n",
       "      <td>TLDLegitimateProb</td>\n",
       "      <td>52873</td>\n",
       "    </tr>\n",
       "    <tr>\n",
       "      <th>10</th>\n",
       "      <td>URLCharProb</td>\n",
       "      <td>52071</td>\n",
       "    </tr>\n",
       "    <tr>\n",
       "      <th>11</th>\n",
       "      <td>TLDLength</td>\n",
       "      <td>2353</td>\n",
       "    </tr>\n",
       "    <tr>\n",
       "      <th>12</th>\n",
       "      <td>NoOfSubDomain</td>\n",
       "      <td>44060</td>\n",
       "    </tr>\n",
       "    <tr>\n",
       "      <th>13</th>\n",
       "      <td>HasObfuscation</td>\n",
       "      <td>65720</td>\n",
       "    </tr>\n",
       "    <tr>\n",
       "      <th>14</th>\n",
       "      <td>NoOfObfuscatedChar</td>\n",
       "      <td>66798</td>\n",
       "    </tr>\n",
       "    <tr>\n",
       "      <th>15</th>\n",
       "      <td>ObfuscationRatio</td>\n",
       "      <td>64598</td>\n",
       "    </tr>\n",
       "    <tr>\n",
       "      <th>16</th>\n",
       "      <td>NoOfLettersInURL</td>\n",
       "      <td>19678</td>\n",
       "    </tr>\n",
       "    <tr>\n",
       "      <th>17</th>\n",
       "      <td>LetterRatioInURL</td>\n",
       "      <td>20472</td>\n",
       "    </tr>\n",
       "    <tr>\n",
       "      <th>18</th>\n",
       "      <td>NoOfDegitsInURL</td>\n",
       "      <td>18278</td>\n",
       "    </tr>\n",
       "    <tr>\n",
       "      <th>19</th>\n",
       "      <td>DegitRatioInURL</td>\n",
       "      <td>16578</td>\n",
       "    </tr>\n",
       "    <tr>\n",
       "      <th>20</th>\n",
       "      <td>NoOfEqualsInURL</td>\n",
       "      <td>19035</td>\n",
       "    </tr>\n",
       "    <tr>\n",
       "      <th>21</th>\n",
       "      <td>NoOfQMarkInURL</td>\n",
       "      <td>13664</td>\n",
       "    </tr>\n",
       "    <tr>\n",
       "      <th>22</th>\n",
       "      <td>NoOfAmpersandInURL</td>\n",
       "      <td>14183</td>\n",
       "    </tr>\n",
       "    <tr>\n",
       "      <th>23</th>\n",
       "      <td>NoOfOtherSpecialCharsInURL</td>\n",
       "      <td>14835</td>\n",
       "    </tr>\n",
       "    <tr>\n",
       "      <th>24</th>\n",
       "      <td>SpacialCharRatioInURL</td>\n",
       "      <td>19415</td>\n",
       "    </tr>\n",
       "    <tr>\n",
       "      <th>25</th>\n",
       "      <td>IsHTTPS</td>\n",
       "      <td>15279</td>\n",
       "    </tr>\n",
       "    <tr>\n",
       "      <th>26</th>\n",
       "      <td>LineOfCode</td>\n",
       "      <td>69153</td>\n",
       "    </tr>\n",
       "    <tr>\n",
       "      <th>27</th>\n",
       "      <td>LargestLineLength</td>\n",
       "      <td>67928</td>\n",
       "    </tr>\n",
       "    <tr>\n",
       "      <th>28</th>\n",
       "      <td>HasTitle</td>\n",
       "      <td>44579</td>\n",
       "    </tr>\n",
       "    <tr>\n",
       "      <th>29</th>\n",
       "      <td>Title</td>\n",
       "      <td>58247</td>\n",
       "    </tr>\n",
       "    <tr>\n",
       "      <th>30</th>\n",
       "      <td>DomainTitleMatchScore</td>\n",
       "      <td>49997</td>\n",
       "    </tr>\n",
       "    <tr>\n",
       "      <th>31</th>\n",
       "      <td>URLTitleMatchScore</td>\n",
       "      <td>52216</td>\n",
       "    </tr>\n",
       "    <tr>\n",
       "      <th>32</th>\n",
       "      <td>HasFavicon</td>\n",
       "      <td>58422</td>\n",
       "    </tr>\n",
       "    <tr>\n",
       "      <th>33</th>\n",
       "      <td>Robots</td>\n",
       "      <td>46732</td>\n",
       "    </tr>\n",
       "    <tr>\n",
       "      <th>34</th>\n",
       "      <td>IsResponsive</td>\n",
       "      <td>42542</td>\n",
       "    </tr>\n",
       "    <tr>\n",
       "      <th>35</th>\n",
       "      <td>NoOfURLRedirect</td>\n",
       "      <td>67384</td>\n",
       "    </tr>\n",
       "    <tr>\n",
       "      <th>36</th>\n",
       "      <td>NoOfSelfRedirect</td>\n",
       "      <td>66715</td>\n",
       "    </tr>\n",
       "    <tr>\n",
       "      <th>37</th>\n",
       "      <td>HasDescription</td>\n",
       "      <td>54639</td>\n",
       "    </tr>\n",
       "    <tr>\n",
       "      <th>38</th>\n",
       "      <td>NoOfPopup</td>\n",
       "      <td>43353</td>\n",
       "    </tr>\n",
       "    <tr>\n",
       "      <th>39</th>\n",
       "      <td>NoOfiFrame</td>\n",
       "      <td>49944</td>\n",
       "    </tr>\n",
       "    <tr>\n",
       "      <th>40</th>\n",
       "      <td>HasExternalFormSubmit</td>\n",
       "      <td>55592</td>\n",
       "    </tr>\n",
       "    <tr>\n",
       "      <th>41</th>\n",
       "      <td>HasSocialNet</td>\n",
       "      <td>67999</td>\n",
       "    </tr>\n",
       "    <tr>\n",
       "      <th>42</th>\n",
       "      <td>HasSubmitButton</td>\n",
       "      <td>61620</td>\n",
       "    </tr>\n",
       "    <tr>\n",
       "      <th>43</th>\n",
       "      <td>HasHiddenFields</td>\n",
       "      <td>43795</td>\n",
       "    </tr>\n",
       "    <tr>\n",
       "      <th>44</th>\n",
       "      <td>HasPasswordField</td>\n",
       "      <td>66535</td>\n",
       "    </tr>\n",
       "    <tr>\n",
       "      <th>45</th>\n",
       "      <td>Bank</td>\n",
       "      <td>54996</td>\n",
       "    </tr>\n",
       "    <tr>\n",
       "      <th>46</th>\n",
       "      <td>Pay</td>\n",
       "      <td>43174</td>\n",
       "    </tr>\n",
       "    <tr>\n",
       "      <th>47</th>\n",
       "      <td>Crypto</td>\n",
       "      <td>50197</td>\n",
       "    </tr>\n",
       "    <tr>\n",
       "      <th>48</th>\n",
       "      <td>HasCopyrightInfo</td>\n",
       "      <td>67345</td>\n",
       "    </tr>\n",
       "    <tr>\n",
       "      <th>49</th>\n",
       "      <td>NoOfImage</td>\n",
       "      <td>50472</td>\n",
       "    </tr>\n",
       "    <tr>\n",
       "      <th>50</th>\n",
       "      <td>NoOfCSS</td>\n",
       "      <td>67134</td>\n",
       "    </tr>\n",
       "    <tr>\n",
       "      <th>51</th>\n",
       "      <td>NoOfJS</td>\n",
       "      <td>60801</td>\n",
       "    </tr>\n",
       "    <tr>\n",
       "      <th>52</th>\n",
       "      <td>NoOfSelfRef</td>\n",
       "      <td>48132</td>\n",
       "    </tr>\n",
       "    <tr>\n",
       "      <th>53</th>\n",
       "      <td>NoOfEmptyRef</td>\n",
       "      <td>42686</td>\n",
       "    </tr>\n",
       "    <tr>\n",
       "      <th>54</th>\n",
       "      <td>NoOfExternalRef</td>\n",
       "      <td>69379</td>\n",
       "    </tr>\n",
       "    <tr>\n",
       "      <th>55</th>\n",
       "      <td>label</td>\n",
       "      <td>0</td>\n",
       "    </tr>\n",
       "  </tbody>\n",
       "</table>\n",
       "</div>"
      ],
      "text/plain": [
       "                        Column  total missing\n",
       "0                           id              0\n",
       "1                     FILENAME          57532\n",
       "2                          URL          43487\n",
       "3                    URLLength          60639\n",
       "4                       Domain          21760\n",
       "5                 DomainLength          46319\n",
       "6                   IsDomainIP          42130\n",
       "7                          TLD           7019\n",
       "8         CharContinuationRate          48042\n",
       "9            TLDLegitimateProb          52873\n",
       "10                 URLCharProb          52071\n",
       "11                   TLDLength           2353\n",
       "12               NoOfSubDomain          44060\n",
       "13              HasObfuscation          65720\n",
       "14          NoOfObfuscatedChar          66798\n",
       "15            ObfuscationRatio          64598\n",
       "16            NoOfLettersInURL          19678\n",
       "17            LetterRatioInURL          20472\n",
       "18             NoOfDegitsInURL          18278\n",
       "19             DegitRatioInURL          16578\n",
       "20             NoOfEqualsInURL          19035\n",
       "21              NoOfQMarkInURL          13664\n",
       "22          NoOfAmpersandInURL          14183\n",
       "23  NoOfOtherSpecialCharsInURL          14835\n",
       "24       SpacialCharRatioInURL          19415\n",
       "25                     IsHTTPS          15279\n",
       "26                  LineOfCode          69153\n",
       "27           LargestLineLength          67928\n",
       "28                    HasTitle          44579\n",
       "29                       Title          58247\n",
       "30       DomainTitleMatchScore          49997\n",
       "31          URLTitleMatchScore          52216\n",
       "32                  HasFavicon          58422\n",
       "33                      Robots          46732\n",
       "34                IsResponsive          42542\n",
       "35             NoOfURLRedirect          67384\n",
       "36            NoOfSelfRedirect          66715\n",
       "37              HasDescription          54639\n",
       "38                   NoOfPopup          43353\n",
       "39                  NoOfiFrame          49944\n",
       "40       HasExternalFormSubmit          55592\n",
       "41                HasSocialNet          67999\n",
       "42             HasSubmitButton          61620\n",
       "43             HasHiddenFields          43795\n",
       "44            HasPasswordField          66535\n",
       "45                        Bank          54996\n",
       "46                         Pay          43174\n",
       "47                      Crypto          50197\n",
       "48            HasCopyrightInfo          67345\n",
       "49                   NoOfImage          50472\n",
       "50                     NoOfCSS          67134\n",
       "51                      NoOfJS          60801\n",
       "52                 NoOfSelfRef          48132\n",
       "53                NoOfEmptyRef          42686\n",
       "54             NoOfExternalRef          69379\n",
       "55                       label              0"
      ]
     },
     "metadata": {},
     "output_type": "display_data"
    }
   ],
   "source": [
    "missing_data = df.isnull().sum().reset_index()\n",
    "missing_data.columns = ['Column', 'total missing']\n",
    "display(missing_data)"
   ]
  },
  {
   "cell_type": "code",
   "execution_count": 53,
   "metadata": {},
   "outputs": [],
   "source": [
    "#Handling string in features yang harusnya numeric\n",
    "\n",
    "for i in df.select_dtypes(include =[np.number]).columns:\n",
    "    nonNumeric = pd.to_numeric(df[i], errors='coerce').isna() & df[i].notna()\n",
    "    if nonNumeric.any():\n",
    "        print(f\"Column {i} has non-numeric values:\")\n",
    "        print(df[nonNumeric][i])\n",
    "        print(\"\\n\")\n",
    "        df[i] = pd.to_numeric(df[i], errors='coerce')\n"
   ]
  },
  {
   "cell_type": "markdown",
   "metadata": {
    "id": "zgrSMcK75VY_"
   },
   "source": [
    "### II. Dealing with Outliers\n",
    "\n",
    "Outliers are data points that significantly differ from the majority of the data. They can be unusually high or low values that do not fit the pattern of the rest of the dataset. Outliers can significantly impact model performance, so it is important to handle them properly.\n",
    "\n",
    "Some methods to handle outliers:\n",
    "1. **Imputation**: Replace with mean, median, or a boundary value.\n",
    "2. **Clipping**: Cap values to upper and lower limits.\n",
    "3. **Transformation**: Use log, square root, or power transformations to reduce their influence.\n",
    "4. **Model-Based**: Use algorithms robust to outliers (e.g., tree-based models, Huber regression)."
   ]
  },
  {
   "cell_type": "code",
   "execution_count": 31,
   "metadata": {
    "id": "CgbZ6Lv17Uf0"
   },
   "outputs": [
    {
     "name": "stdout",
     "output_type": "stream",
     "text": [
      "                  id     URLLength  DomainLength    IsDomainIP  \\\n",
      "count  140404.000000  79765.000000  94085.000000  98274.000000   \n",
      "mean   117682.632746     27.701473     19.619387      0.000488   \n",
      "std     68122.005080     23.140676      5.833808      0.022095   \n",
      "min         1.000000     14.000000      4.000000      0.000000   \n",
      "25%     58689.500000     23.000000     16.000000      0.000000   \n",
      "50%    117421.500000     26.000000     19.000000      0.000000   \n",
      "75%    176724.250000     30.000000     23.000000      0.000000   \n",
      "max    235795.000000   4054.000000     93.000000      1.000000   \n",
      "\n",
      "       CharContinuationRate  TLDLegitimateProb   URLCharProb      TLDLength  \\\n",
      "count          92362.000000      140404.000000  88333.000000  138051.000000   \n",
      "mean               0.918007           0.369904      0.059286       2.729911   \n",
      "std                0.159142           0.229171      0.008063       0.532136   \n",
      "min                0.000000           0.000000      0.001229       2.000000   \n",
      "25%                0.913043           0.079963      0.055542       2.000000   \n",
      "50%                1.000000           0.522907      0.060264       3.000000   \n",
      "75%                1.000000           0.522907      0.064391       3.000000   \n",
      "max                1.000000           0.522907      0.088766      13.000000   \n",
      "\n",
      "       NoOfSubDomain  HasObfuscation  ...           Pay        Crypto  \\\n",
      "count   96344.000000    74684.000000  ...  97230.000000  90207.000000   \n",
      "mean        1.161442        0.000402  ...      0.345706      0.034454   \n",
      "std         0.445054        0.020038  ...      0.475600      0.182393   \n",
      "min         0.000000        0.000000  ...      0.000000      0.000000   \n",
      "25%         1.000000        0.000000  ...      0.000000      0.000000   \n",
      "50%         1.000000        0.000000  ...      0.000000      0.000000   \n",
      "75%         1.000000        0.000000  ...      1.000000      0.000000   \n",
      "max         7.000000        1.000000  ...      1.000000      1.000000   \n",
      "\n",
      "       HasCopyrightInfo     NoOfImage       NoOfCSS        NoOfJS  \\\n",
      "count      73059.000000  89932.000000  73270.000000  79603.000000   \n",
      "mean           0.751543     41.647489     10.268623     16.461729   \n",
      "std            0.432121    102.538702    133.321659     21.001274   \n",
      "min            0.000000      0.000000      0.000000      0.000000   \n",
      "25%            1.000000     10.000000      2.000000      6.000000   \n",
      "50%            1.000000     23.000000      5.000000     12.000000   \n",
      "75%            1.000000     45.000000     12.000000     22.000000   \n",
      "max            1.000000   8956.000000  35820.000000   2828.000000   \n",
      "\n",
      "        NoOfSelfRef  NoOfEmptyRef  NoOfExternalRef          label  \n",
      "count  92272.000000  97718.000000     71025.000000  140404.000000  \n",
      "mean     104.875900      3.733846        78.104273       0.924831  \n",
      "std      219.137035     24.192458       187.106965       0.263664  \n",
      "min        0.000000      0.000000         0.000000       0.000000  \n",
      "25%       24.000000      0.000000        13.000000       1.000000  \n",
      "50%       69.000000      0.000000        39.000000       1.000000  \n",
      "75%      132.000000      3.000000        99.000000       1.000000  \n",
      "max    26596.000000   4887.000000     27516.000000       1.000000  \n",
      "\n",
      "[8 rows x 51 columns]\n"
     ]
    }
   ],
   "source": [
    "def impute_outliers_with_condition(df, feature, method='median'):\n",
    "    if feature in ['LetterRatioInURL', 'DegitRatioInURL']:\n",
    "        condition = df['URL'].notna()\n",
    "    else:\n",
    "        condition = pd.Series([False] * len(df))\n",
    "    \n",
    "    if method == 'mean':\n",
    "        df.loc[~condition, feature] = df.loc[~condition, feature].fillna(df[feature].mean())\n",
    "    elif method == 'median':\n",
    "        df.loc[~condition, feature] = df.loc[~condition, feature].fillna(df[feature].median())\n",
    "    elif method == 'boundary':\n",
    "        lower_bound = df[feature].quantile(0.05)\n",
    "        upper_bound = df[feature].quantile(0.95)\n",
    "        df.loc[~condition, feature] = df.loc[~condition, feature].clip(lower=lower_bound, upper=upper_bound)\n",
    "    return df\n",
    "\n",
    "imputation_features = ['TLDLegitimateProb', 'LetterRatioInURL', 'DegitRatioInURL']\n",
    "\n",
    "for feature in imputation_features:\n",
    "    df = impute_outliers_with_condition(df, feature, method='median')\n",
    "\n",
    "print(df.describe())\n"
   ]
  },
  {
   "cell_type": "code",
   "execution_count": 32,
   "metadata": {},
   "outputs": [
    {
     "name": "stdout",
     "output_type": "stream",
     "text": [
      "                  id     URLLength  DomainLength    IsDomainIP  \\\n",
      "count  140404.000000  79765.000000  94085.000000  98274.000000   \n",
      "mean   117682.632746     27.701473     19.619387      0.000488   \n",
      "std     68122.005080     23.140676      5.833808      0.022095   \n",
      "min         1.000000     14.000000      4.000000      0.000000   \n",
      "25%     58689.500000     23.000000     16.000000      0.000000   \n",
      "50%    117421.500000     26.000000     19.000000      0.000000   \n",
      "75%    176724.250000     30.000000     23.000000      0.000000   \n",
      "max    235795.000000   4054.000000     93.000000      1.000000   \n",
      "\n",
      "       CharContinuationRate  TLDLegitimateProb   URLCharProb      TLDLength  \\\n",
      "count          92362.000000      140404.000000  88333.000000  138051.000000   \n",
      "mean               0.918007           0.369904      0.059286       2.729911   \n",
      "std                0.159142           0.229171      0.008063       0.532136   \n",
      "min                0.000000           0.000000      0.001229       2.000000   \n",
      "25%                0.913043           0.079963      0.055542       2.000000   \n",
      "50%                1.000000           0.522907      0.060264       3.000000   \n",
      "75%                1.000000           0.522907      0.064391       3.000000   \n",
      "max                1.000000           0.522907      0.088766      13.000000   \n",
      "\n",
      "       NoOfSubDomain  HasObfuscation  ...           Pay        Crypto  \\\n",
      "count   96344.000000    74684.000000  ...  97230.000000  90207.000000   \n",
      "mean        1.161442        0.000402  ...      0.345706      0.034454   \n",
      "std         0.445054        0.020038  ...      0.475600      0.182393   \n",
      "min         0.000000        0.000000  ...      0.000000      0.000000   \n",
      "25%         1.000000        0.000000  ...      0.000000      0.000000   \n",
      "50%         1.000000        0.000000  ...      0.000000      0.000000   \n",
      "75%         1.000000        0.000000  ...      1.000000      0.000000   \n",
      "max         7.000000        1.000000  ...      1.000000      1.000000   \n",
      "\n",
      "       HasCopyrightInfo     NoOfImage       NoOfCSS        NoOfJS  \\\n",
      "count      73059.000000  89932.000000  73270.000000  79603.000000   \n",
      "mean           0.751543     41.647489     10.268623     16.461729   \n",
      "std            0.432121    102.538702    133.321659     21.001274   \n",
      "min            0.000000      0.000000      0.000000      0.000000   \n",
      "25%            1.000000     10.000000      2.000000      6.000000   \n",
      "50%            1.000000     23.000000      5.000000     12.000000   \n",
      "75%            1.000000     45.000000     12.000000     22.000000   \n",
      "max            1.000000   8956.000000  35820.000000   2828.000000   \n",
      "\n",
      "        NoOfSelfRef  NoOfEmptyRef  NoOfExternalRef          label  \n",
      "count  92272.000000  97718.000000     71025.000000  140404.000000  \n",
      "mean     104.875900      3.733846        78.104273       0.924831  \n",
      "std      219.137035     24.192458       187.106965       0.263664  \n",
      "min        0.000000      0.000000         0.000000       0.000000  \n",
      "25%       24.000000      0.000000        13.000000       1.000000  \n",
      "50%       69.000000      0.000000        39.000000       1.000000  \n",
      "75%      132.000000      3.000000        99.000000       1.000000  \n",
      "max    26596.000000   4887.000000     27516.000000       1.000000  \n",
      "\n",
      "[8 rows x 51 columns]\n"
     ]
    }
   ],
   "source": [
    "#Clipping\n",
    "\n",
    "clipping_features = [\n",
    "    'URLLength', 'NoOfLettersInURL', 'NoOfDegitsInURL', 'NoOfEqualsInURL',\n",
    "    'NoOfQMarkInURL', 'NoOfAmpersandInURL', 'NoOfOtherSpecialCharsInURL',\n",
    "    'LargestLineLength', 'NoOfImage', 'NoOfCSS', 'NoOfJS', 'NoOfSelfRef',\n",
    "    'NoOfEmptyRef', 'NoOfExternalRef'\n",
    "]\n",
    "\n",
    "def clip_outliers(df, feature, lower_percentile=0.05, upper_percentile=0.95):\n",
    "    lower_bound = df[feature].quantile(lower_percentile)\n",
    "    upper_bound = df[feature].quantile(upper_percentile)\n",
    "    df[feature] = df[feature].clip(lower=lower_bound, upper=upper_bound)\n",
    "    return df\n",
    "\n",
    "for i in clipping_features:\n",
    "    df = clip_outliers(df, feature, lower_percentile=0.05, upper_percentile=0.95)\n",
    "\n",
    "print(df.describe())"
   ]
  },
  {
   "cell_type": "code",
   "execution_count": 33,
   "metadata": {},
   "outputs": [
    {
     "name": "stdout",
     "output_type": "stream",
     "text": [
      "       CharContinuationRate  ObfuscationRatio  SpacialCharRatioInURL  \\\n",
      "count          92362.000000      75806.000000          120989.000000   \n",
      "mean               0.647400          0.000027               0.565066   \n",
      "std                0.090948          0.001589               0.257034   \n",
      "min                0.000000          0.000000               0.000000   \n",
      "25%                0.648695          0.000000               0.693147   \n",
      "50%                0.693147          0.000000               0.693147   \n",
      "75%                0.693147          0.000000               0.693147   \n",
      "max                0.693147          0.192272               0.693147   \n",
      "\n",
      "         LineOfCode  DomainTitleMatchScore  URLTitleMatchScore  \n",
      "count  71251.000000           90407.000000        88188.000000  \n",
      "mean       6.753832               3.289043            3.304264  \n",
      "std        1.478084               2.080185            2.071877  \n",
      "min        1.098612               0.000000            0.000000  \n",
      "25%        6.248043               0.000000            0.000000  \n",
      "50%        6.922644               4.615121            4.615121  \n",
      "75%        7.583248               4.615121            4.615121  \n",
      "max       12.994884               4.615121            4.615121  \n"
     ]
    }
   ],
   "source": [
    "#Transformation untuk feature CharContinuationRate, ObfuscationRatio, SpacialCharRatioInURL, LineOfCode, DomainTitleMatchScore, URLTitleMatchScore\n",
    "\n",
    "transformation_features = [ 'CharContinuationRate', 'ObfuscationRatio', 'SpacialCharRatioInURL', 'LineOfCode', 'DomainTitleMatchScore', 'URLTitleMatchScore']\n",
    "def transformation(df, feature, method='log'):\n",
    "    if method == 'log':\n",
    "        df[feature] = np.log1p(df[feature]) \n",
    "    elif method == 'sqrt':\n",
    "        df[feature] = np.sqrt(df[feature])\n",
    "    elif method == 'power':\n",
    "        df[feature] = np.power(df[feature], 0.5)\n",
    "\n",
    "    return df\n",
    "\n",
    "for feature in transformation_features:\n",
    "    df = transformation(df, feature, 'log')\n",
    "\n",
    "print(df[['CharContinuationRate', 'ObfuscationRatio', 'SpacialCharRatioInURL', 'LineOfCode', 'DomainTitleMatchScore', 'URLTitleMatchScore']].describe())"
   ]
  },
  {
   "cell_type": "code",
   "execution_count": 34,
   "metadata": {},
   "outputs": [],
   "source": [
    "#Modelling \n",
    "\n",
    "modelling_features = ['NoOfSubDomain', 'NoOfLettersInURL', 'NoOfDegitsInURL', 'NoOfImage', 'NoOfCSS', 'NoOfJS', 'NoOfSelfRef', 'NoOfEmptyRef', 'NoOfExternalRef']\n",
    "\n",
    "def modellingOutlier(df, feature, method='boundary', contamination=0.01):\n",
    "    model = IsolationForest(contamination=contamination, random_state=42)\n",
    "    df['outlier'] = model.fit_predict(df[[feature]])\n"
   ]
  },
  {
   "cell_type": "markdown",
   "metadata": {
    "id": "aO0ZEZ-s6Lu-"
   },
   "source": [
    "### III. Remove Duplicates\n",
    "Handling duplicate values is crucial because they can compromise data integrity, leading to inaccurate analysis and insights. Duplicate entries can bias machine learning models, causing overfitting and reducing their ability to generalize to new data. They also inflate the dataset size unnecessarily, increasing computational costs and processing times. Additionally, duplicates can distort statistical measures and lead to inconsistencies, ultimately affecting the reliability of data-driven decisions and reporting. Ensuring data quality by removing duplicates is essential for accurate, efficient, and consistent analysis."
   ]
  },
  {
   "cell_type": "code",
   "execution_count": null,
   "metadata": {
    "id": "BHCkkZ-v7iF8"
   },
   "outputs": [
    {
     "name": "stdout",
     "output_type": "stream",
     "text": [
      "Number of rows before duplicate remove\n",
      "(140404, 56)\n",
      "Number of rows after duplicate remove\n",
      "(140404, 56)\n"
     ]
    }
   ],
   "source": []
  },
  {
   "cell_type": "markdown",
   "metadata": {
    "id": "eycPASmMLfHa"
   },
   "source": [
    "### IV. Feature Engineering\n",
    "\n",
    "**Feature engineering** involves creating new features (input variables) or transforming existing ones to improve the performance of machine learning models. Feature engineering aims to enhance the model's ability to learn patterns and make accurate predictions from the data. It's often said that \"good features make good models.\"\n",
    "\n",
    "1. **Feature Selection:** Feature engineering can involve selecting the most relevant and informative features from the dataset. Removing irrelevant or redundant features not only simplifies the model but also reduces the risk of overfitting.\n",
    "\n",
    "2. **Creating New Features:** Sometimes, the existing features may not capture the underlying patterns effectively. In such cases, engineers create new features that provide additional information. For example:\n",
    "   \n",
    "   - **Polynomial Features:** Engineers may create new features by taking the square, cube, or other higher-order terms of existing numerical features. This can help capture nonlinear relationships.\n",
    "   \n",
    "   - **Interaction Features:** Interaction features are created by combining two or more existing features. For example, if you have features \"length\" and \"width,\" you can create an \"area\" feature by multiplying them.\n",
    "\n",
    "3. **Binning or Discretization:** Continuous numerical features can be divided into bins or categories. For instance, age values can be grouped into bins like \"child,\" \"adult,\" and \"senior.\"\n",
    "\n",
    "4. **Domain-Specific Feature Engineering:** Depending on the domain and problem, engineers may create domain-specific features. For example, in fraud detection, features related to transaction history and user behavior may be engineered to identify anomalies.\n",
    "\n",
    "Feature engineering is both a creative and iterative process. It requires a deep understanding of the data, domain knowledge, and experimentation to determine which features will enhance the model's predictive power."
   ]
  },
  {
   "cell_type": "code",
   "execution_count": null,
   "metadata": {
    "id": "UoXEV6wkLfHa"
   },
   "outputs": [],
   "source": [
    "#Buat 2 feature baru\n",
    "df['URLComplexityScore'] = df['LetterRatioInURL'] + df['DegitRatioInURL'] + df['SpacialCharRatioInURL']\n",
    "df['SubdomainLengthRatio'] = df['DomainLength'] / (df['NoOfSubDomain'] + 1) \n",
    "df['CombinedTitleMatchScore'] = df['DomainTitleMatchScore'] * df['URLTitleMatchScore']\n",
    "df['SpecialCharDensity'] = df['NoOfOtherSpecialCharsInURL'] / (df['URLLength'] + 1)     "
   ]
  },
  {
   "cell_type": "code",
   "execution_count": 63,
   "metadata": {},
   "outputs": [],
   "source": [
    "#Encoding TLD dan isHTTPS\n",
    "tld_frequency = df['TLD'].value_counts(normalize=True)\n",
    "df['TLDEncoded'] = df['TLD'].map(tld_frequency)\n",
    "df = pd.get_dummies(df, columns=['TLD'], drop_first=True)\n"
   ]
  },
  {
   "cell_type": "code",
   "execution_count": 65,
   "metadata": {},
   "outputs": [],
   "source": [
    "#Transformasi untuk features yang skew parah\n",
    "\n",
    "skewed_features = ['LineOfCode', 'LargestLineLength']\n",
    "for feature in skewed_features:\n",
    "    df[feature] = np.log1p(df[feature])"
   ]
  },
  {
   "cell_type": "markdown",
   "metadata": {
    "id": "xw11_49xLfHb"
   },
   "source": [
    "## B. Data Preprocessing\n",
    "\n",
    "**Data preprocessing** is a broader step that encompasses both data cleaning and additional transformations to make the data suitable for machine learning algorithms. Its primary goals are:\n",
    "\n",
    "1. **Feature Scaling:** Ensure that numerical features have similar scales. Common techniques include Min-Max scaling (scaling to a specific range) or standardization (mean-centered, unit variance).\n",
    "\n",
    "2. **Encoding Categorical Variables:** Machine learning models typically work with numerical data, so categorical variables need to be encoded. This can be done using one-hot encoding, label encoding, or more advanced methods like target encoding.\n",
    "\n",
    "3. **Handling Imbalanced Classes:** If dealing with imbalanced classes in a binary classification task, apply techniques such as oversampling, undersampling, or using different evaluation metrics to address class imbalance.\n",
    "\n",
    "4. **Dimensionality Reduction:** Reduce the number of features using techniques like Principal Component Analysis (PCA) or feature selection to simplify the model and potentially improve its performance.\n",
    "\n",
    "5. **Normalization:** Normalize data to achieve a standard distribution. This is particularly important for algorithms that assume normally distributed data."
   ]
  },
  {
   "cell_type": "markdown",
   "metadata": {
    "id": "rVyVnA1hLfHd"
   },
   "source": [
    "### Notes on Preprocessing processes\n",
    "\n",
    "It is advised to create functions or classes that have the same/similar type of inputs and outputs, so you can add, remove, or swap the order of the processes easily. You can implement the functions or classes by yourself\n",
    "\n",
    "or\n",
    "\n",
    "use `sklearn` library. To create a new preprocessing component in `sklearn`, implement a corresponding class that includes:\n",
    "1. Inheritance to `BaseEstimator` and `TransformerMixin`\n",
    "2. The method `fit`\n",
    "3. The method `transform`"
   ]
  },
  {
   "cell_type": "code",
   "execution_count": null,
   "metadata": {
    "id": "WbxHt-5eKz_I"
   },
   "outputs": [],
   "source": [
    "class CustomPreprocessor(BaseEstimator, TransformerMixin):\n",
    "    def __init__(self, impute_method='median', clip_percentiles=(0.05, 0.95)):\n",
    "        \"\"\"\n",
    "        Initialize the preprocessor with specific parameters.\n",
    "        Args:\n",
    "        - impute_method (str): Method for imputing missing values ('mean', 'median').\n",
    "        - clip_percentiles (tuple): Percentiles for clipping (lower, upper).\n",
    "        \"\"\"\n",
    "        self.impute_method = impute_method\n",
    "        self.clip_percentiles = clip_percentiles\n",
    "        self.imputation_values = {}\n",
    "\n",
    "    def fit(self, X, y=None):\n",
    "        \"\"\"\n",
    "        Compute the values needed for imputation and clipping.\n",
    "        Args:\n",
    "        - X (pd.DataFrame): Input features.\n",
    "        - y: Target variable (not used, included for compatibility).\n",
    "        Returns:\n",
    "        - self\n",
    "        \"\"\"\n",
    "        for col in X.select_dtypes(include=[np.number]).columns:\n",
    "            if self.impute_method == 'mean':\n",
    "                self.imputation_values[col] = X[col].mean()\n",
    "            elif self.impute_method == 'median':\n",
    "                self.imputation_values[col] = X[col].median()\n",
    "        return self\n",
    "\n",
    "    def transform(self, X, y=None):\n",
    "        \"\"\"\n",
    "        Apply imputation and clipping to the data.\n",
    "        Args:\n",
    "        - X (pd.DataFrame): Input features.\n",
    "        - y: Target variable (not used, included for compatibility).\n",
    "        Returns:\n",
    "        - X_transformed (pd.DataFrame): Preprocessed features.\n",
    "        \"\"\"\n",
    "        X = X.copy()\n",
    "        \n",
    "        # Impute missing values\n",
    "        for col, value in self.imputation_values.items():\n",
    "            X[col] = X[col].fillna(value)\n",
    "        \n",
    "        # Clip numeric columns to specified percentiles\n",
    "        for col in X.select_dtypes(include=[np.number]).columns:\n",
    "            lower_bound = X[col].quantile(self.clip_percentiles[0])\n",
    "            upper_bound = X[col].quantile(self.clip_percentiles[1])\n",
    "            X[col] = X[col].clip(lower=lower_bound, upper=upper_bound)\n",
    "        \n",
    "        return X"
   ]
  },
  {
   "cell_type": "markdown",
   "metadata": {
    "id": "WhCgOl4xLfHb"
   },
   "source": [
    "### I. Feature Scaling\n",
    "\n",
    "**Feature scaling** is a preprocessing technique used in machine learning to standardize the range of independent variables or features of data. The primary goal of feature scaling is to ensure that all features contribute equally to the training process and that machine learning algorithms can work effectively with the data.\n",
    "\n",
    "Here are the main reasons why feature scaling is important:\n",
    "\n",
    "1. **Algorithm Sensitivity:** Many machine learning algorithms are sensitive to the scale of input features. If the scales of features are significantly different, some algorithms may perform poorly or take much longer to converge.\n",
    "\n",
    "2. **Distance-Based Algorithms:** Algorithms that rely on distances or similarities between data points, such as k-nearest neighbors (KNN) and support vector machines (SVM), can be influenced by feature scales. Features with larger scales may dominate the distance calculations.\n",
    "\n",
    "3. **Regularization:** Regularization techniques, like L1 (Lasso) and L2 (Ridge) regularization, add penalty terms based on feature coefficients. Scaling ensures that all features are treated equally in the regularization process.\n",
    "\n",
    "Common methods for feature scaling include:\n",
    "\n",
    "1. **Min-Max Scaling (Normalization):** This method scales features to a specific range, typically [0, 1]. It's done using the following formula:\n",
    "\n",
    "   $$X' = \\frac{X - X_{min}}{X_{max} - X_{min}}$$\n",
    "\n",
    "   - Here, $X$ is the original feature value, $X_{min}$ is the minimum value of the feature, and $X_{max}$ is the maximum value of the feature.  \n",
    "<br />\n",
    "<br />\n",
    "2. **Standardization (Z-score Scaling):** This method scales features to have a mean (average) of 0 and a standard deviation of 1. It's done using the following formula:\n",
    "\n",
    "   $$X' = \\frac{X - \\mu}{\\sigma}$$\n",
    "\n",
    "   - $X$ is the original feature value, $\\mu$ is the mean of the feature, and $\\sigma$ is the standard deviation of the feature.  \n",
    "<br />\n",
    "<br />\n",
    "3. **Robust Scaling:** Robust scaling is a method that scales features to the interquartile range (IQR) and is less affected by outliers. It's calculated as:\n",
    "\n",
    "   $$X' = \\frac{X - Q1}{Q3 - Q1}$$\n",
    "\n",
    "   - $X$ is the original feature value, $Q1$ is the first quartile (25th percentile), and $Q3$ is the third quartile (75th percentile) of the feature.  \n",
    "<br />\n",
    "<br />\n",
    "4. **Log Transformation:** In cases where data is highly skewed or has a heavy-tailed distribution, taking the logarithm of the feature values can help stabilize the variance and improve scaling.\n",
    "\n",
    "The choice of scaling method depends on the characteristics of your data and the requirements of your machine learning algorithm. **Min-max scaling and standardization are the most commonly used techniques and work well for many datasets.**\n",
    "\n",
    "Scaling should be applied separately to each training and test set to prevent data leakage from the test set into the training set. Additionally, **some algorithms may not require feature scaling, particularly tree-based models.**"
   ]
  },
  {
   "cell_type": "code",
   "execution_count": 38,
   "metadata": {
    "id": "COef9EbCLfHb"
   },
   "outputs": [],
   "source": [
    "# Write your code here"
   ]
  },
  {
   "cell_type": "markdown",
   "metadata": {
    "id": "f_Lh-4JwLfHc"
   },
   "source": [
    "### II. Feature Encoding\n",
    "\n",
    "**Feature encoding**, also known as **categorical encoding**, is the process of converting categorical data (non-numeric data) into a numerical format so that it can be used as input for machine learning algorithms. Most machine learning models require numerical data for training and prediction, so feature encoding is a critical step in data preprocessing.\n",
    "\n",
    "Categorical data can take various forms, including:\n",
    "\n",
    "1. **Nominal Data:** Categories with no intrinsic order, like colors or country names.  \n",
    "\n",
    "2. **Ordinal Data:** Categories with a meaningful order but not necessarily equidistant, like education levels (e.g., \"high school,\" \"bachelor's,\" \"master's\").\n",
    "\n",
    "There are several common methods for encoding categorical data:\n",
    "\n",
    "1. **Label Encoding:**\n",
    "\n",
    "   - Label encoding assigns a unique integer to each category in a feature.\n",
    "   - It's suitable for ordinal data where there's a clear order among categories.\n",
    "   - For example, if you have an \"education\" feature with values \"high school,\" \"bachelor's,\" and \"master's,\" you can encode them as 0, 1, and 2, respectively.\n",
    "<br />\n",
    "<br />\n",
    "2. **One-Hot Encoding:**\n",
    "\n",
    "   - One-hot encoding creates a binary (0 or 1) column for each category in a nominal feature.\n",
    "   - It's suitable for nominal data where there's no inherent order among categories.\n",
    "   - Each category becomes a new feature, and the presence (1) or absence (0) of a category is indicated for each row.\n",
    "<br />\n",
    "<br />\n",
    "3. **Target Encoding (Mean Encoding):**\n",
    "\n",
    "   - Target encoding replaces each category with the mean of the target variable for that category.\n",
    "   - It's often used for classification problems."
   ]
  },
  {
   "cell_type": "code",
   "execution_count": 39,
   "metadata": {
    "id": "psElSUugLfHc"
   },
   "outputs": [],
   "source": [
    "# Write your code here"
   ]
  },
  {
   "cell_type": "markdown",
   "metadata": {
    "id": "jKQO9wtB8Pc0"
   },
   "source": [
    "### III. Handling Imbalanced Dataset\n",
    "\n",
    "**Handling imbalanced datasets** is important because imbalanced data can lead to several issues that negatively impact the performance and reliability of machine learning models. Here are some key reasons:\n",
    "\n",
    "1. **Biased Model Performance**:\n",
    "\n",
    " - Models trained on imbalanced data tend to be biased towards the majority class, leading to poor performance on the minority class. This can result in misleading accuracy metrics.\n",
    "\n",
    "2. **Misleading Accuracy**:\n",
    "\n",
    " - High overall accuracy can be misleading in imbalanced datasets. For example, if 95% of the data belongs to one class, a model that always predicts the majority class will have 95% accuracy but will fail to identify the minority class.\n",
    "\n",
    "3. **Poor Generalization**:\n",
    "\n",
    " - Models trained on imbalanced data may not generalize well to new, unseen data, especially if the minority class is underrepresented.\n",
    "\n",
    "\n",
    "Some methods to handle imbalanced datasets:\n",
    "1. **Resampling Methods**:\n",
    "\n",
    " - Oversampling: Increase the number of instances in the minority class by duplicating or generating synthetic samples (e.g., SMOTE).\n",
    " - Undersampling: Reduce the number of instances in the majority class to balance the dataset.\n",
    "\n",
    "2. **Evaluation Metrics**:\n",
    "\n",
    " - Use appropriate evaluation metrics such as precision, recall, F1-score, ROC-AUC, and confusion matrix instead of accuracy to better assess model performance on imbalanced data.\n",
    "\n",
    "3. **Algorithmic Approaches**:\n",
    "\n",
    " - Use algorithms that are designed to handle imbalanced data, such as decision trees, random forests, or ensemble methods.\n",
    " - Adjust class weights in algorithms to give more importance to the minority class."
   ]
  },
  {
   "cell_type": "code",
   "execution_count": 40,
   "metadata": {
    "id": "u2BQd2XJ9W1i"
   },
   "outputs": [],
   "source": [
    "# Write your code here"
   ]
  },
  {
   "cell_type": "markdown",
   "metadata": {
    "id": "-ctVzt5DLfHd"
   },
   "source": [
    "# 3. Compile Preprocessing Pipeline\n",
    "\n",
    "All of the preprocessing classes or functions defined earlier will be compiled in this step."
   ]
  },
  {
   "cell_type": "markdown",
   "metadata": {
    "id": "S_ZlncSVjJG6"
   },
   "source": [
    "If you use sklearn to create preprocessing classes, you can list your preprocessing classes in the Pipeline object sequentially, and then fit and transform your data."
   ]
  },
  {
   "cell_type": "code",
   "execution_count": 41,
   "metadata": {
    "id": "jHraoW_7LfHd"
   },
   "outputs": [],
   "source": [
    "# from sklearn.pipeline import Pipeline\n",
    "\n",
    "# # Note: You can add or delete preprocessing components from this pipeline\n",
    "\n",
    "# pipe = Pipeline([(\"imputer\", FeatureImputer()),\n",
    "#                  (\"featurecreator\", FeatureCreator()),\n",
    "#                  (\"scaler\", FeatureScaler()),\n",
    "#                  (\"encoder\", FeatureEncoder())])\n",
    "\n",
    "# train_set = pipe.fit_transform(train_set)\n",
    "# val_set = pipe.transform(val_set)"
   ]
  },
  {
   "cell_type": "code",
   "execution_count": 42,
   "metadata": {
    "id": "9s56aFFxLfHd"
   },
   "outputs": [],
   "source": [
    "# # Your code should work up until this point\n",
    "# train_set = pipe.fit_transform(train_set)\n",
    "# val_set = pipe.transform(val_set)"
   ]
  },
  {
   "cell_type": "markdown",
   "metadata": {
    "id": "SXoCqMztjhr-"
   },
   "source": [
    "or create your own here"
   ]
  },
  {
   "cell_type": "code",
   "execution_count": 43,
   "metadata": {
    "id": "7OoZ3oXEj2CW"
   },
   "outputs": [],
   "source": [
    "# Write your code here"
   ]
  },
  {
   "cell_type": "markdown",
   "metadata": {
    "id": "9A3adbZXLfHe"
   },
   "source": [
    "# 4. Modeling and Validation\n",
    "\n",
    "Modelling is the process of building your own machine learning models to solve specific problems, or in this assignment context, predicting the target feature `label`. Validation is the process of evaluating your trained model using the validation set or cross-validation method and providing some metrics that can help you decide what to do in the next iteration of development."
   ]
  },
  {
   "cell_type": "markdown",
   "metadata": {
    "id": "ZnhMNbBILfHf"
   },
   "source": [
    "## A. KNN"
   ]
  },
  {
   "cell_type": "code",
   "execution_count": 44,
   "metadata": {
    "id": "KV6ICmFmlqjk"
   },
   "outputs": [],
   "source": [
    "# Type your code here"
   ]
  },
  {
   "cell_type": "markdown",
   "metadata": {
    "id": "nW0bMzkDLfHf"
   },
   "source": [
    "## B. Naive Bayes"
   ]
  },
  {
   "cell_type": "code",
   "execution_count": 45,
   "metadata": {
    "id": "C_XwsN_-LfHg"
   },
   "outputs": [],
   "source": [
    "# Type your code here"
   ]
  },
  {
   "cell_type": "markdown",
   "metadata": {
    "id": "LoH2u6fOLfHh"
   },
   "source": [
    "## C. Improvements (Optional)\n",
    "\n",
    "- **Visualize the model evaluation result**\n",
    "\n",
    "This will help you to understand the details more clearly about your model's performance. From the visualization, you can see clearly if your model is leaning towards a class than the others. (Hint: confusion matrix, ROC-AUC curve, etc.)\n",
    "\n",
    "- **Explore the hyperparameters of your models**\n",
    "\n",
    "Each models have their own hyperparameters. And each of the hyperparameter have different effects on the model behaviour. You can optimize the model performance by finding the good set of hyperparameters through a process called **hyperparameter tuning**. (Hint: Grid search, random search, bayesian optimization)\n",
    "\n",
    "- **Cross-validation**\n",
    "\n",
    "Cross-validation is a critical technique in machine learning and data science for evaluating and validating the performance of predictive models. It provides a more **robust** and **reliable** evaluation method compared to a hold-out (single train-test set) validation. Though, it requires more time and computing power because of how cross-validation works. (Hint: k-fold cross-validation, stratified k-fold cross-validation, etc.)"
   ]
  },
  {
   "cell_type": "code",
   "execution_count": 46,
   "metadata": {
    "id": "pg-A54yELfHh"
   },
   "outputs": [],
   "source": [
    "# Type your code here"
   ]
  },
  {
   "cell_type": "markdown",
   "metadata": {
    "id": "Li4l53DjLfHh"
   },
   "source": [
    "## D. Submission\n",
    "To predict the test set target feature and submit the results to the kaggle competition platform, do the following:\n",
    "1. Create a new pipeline instance identical to the first in Data Preprocessing\n",
    "2. With the pipeline, apply `fit_transform` to the original training set before splitting, then only apply `transform` to the test set.\n",
    "3. Retrain the model on the preprocessed training set\n",
    "4. Predict the test set\n",
    "5. Make sure the submission contains the `id` and `label` column.\n",
    "\n",
    "Note: Adjust step 1 and 2 to your implementation of the preprocessing step if you don't use pipeline API from `sklearn`."
   ]
  },
  {
   "cell_type": "code",
   "execution_count": 47,
   "metadata": {
    "id": "LeqnfWc-LfHi"
   },
   "outputs": [],
   "source": [
    "# Type your code here"
   ]
  },
  {
   "cell_type": "markdown",
   "metadata": {
    "id": "R-jXvKOpLfHi"
   },
   "source": [
    "# 6. Error Analysis\n",
    "\n",
    "Based on all the process you have done until the modeling and evaluation step, write an analysis to support each steps you have taken to solve this problem. Write the analysis using the markdown block. Some questions that may help you in writing the analysis:\n",
    "\n",
    "- Does my model perform better in predicting one class than the other? If so, why is that?\n",
    "- To each models I have tried, which performs the best and what could be the reason?\n",
    "- Is it better for me to impute or drop the missing data? Why?\n",
    "- Does feature scaling help improve my model performance?\n",
    "- etc..."
   ]
  },
  {
   "cell_type": "markdown",
   "metadata": {
    "id": "tWL3nEAELfHj"
   },
   "source": [
    "`Provide your analysis here`"
   ]
  }
 ],
 "metadata": {
  "colab": {
   "provenance": []
  },
  "kernelspec": {
   "display_name": "Python 3",
   "language": "python",
   "name": "python3"
  },
  "language_info": {
   "codemirror_mode": {
    "name": "ipython",
    "version": 3
   },
   "file_extension": ".py",
   "mimetype": "text/x-python",
   "name": "python",
   "nbconvert_exporter": "python",
   "pygments_lexer": "ipython3",
   "version": "3.12.8"
  }
 },
 "nbformat": 4,
 "nbformat_minor": 0
}
